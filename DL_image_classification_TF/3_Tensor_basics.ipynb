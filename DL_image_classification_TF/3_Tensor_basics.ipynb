{
 "cells": [
  {
   "cell_type": "markdown",
   "metadata": {},
   "source": [
    "- Tensors are multidimensional arrays.\n",
    "- Tensors can be one-dimensional. \n",
    "- 1-D tensor : scalar number, ie 1,2,3... \n",
    "- 2-D tensor : [1,2,3,4]"
   ]
  }
 ],
 "metadata": {
  "kernelspec": {
   "display_name": "mlenv",
   "language": "python",
   "name": "python3"
  },
  "language_info": {
   "name": "python",
   "version": "3.11.4"
  }
 },
 "nbformat": 4,
 "nbformat_minor": 2
}
